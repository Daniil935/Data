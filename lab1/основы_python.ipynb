{
  "cells": [
    {
      "cell_type": "markdown",
      "metadata": {
        "id": "M-DGa20PaHnu"
      },
      "source": [
        "# Задача 1\n",
        "Написать функцию на вход которой подается строка, состоящая из латинских букв.\n",
        "Функция должна вернуть количество гласных букв (a, e, i, o, u) в этой строке. Написать тесты для кода"
      ]
    },
    {
      "cell_type": "code",
      "execution_count": 1,
      "metadata": {
        "id": "XvX8X_JJ6PCb"
      },
      "outputs": [
        {
          "name": "stdout",
          "output_type": "stream",
          "text": [
            "2\n",
            "1\n",
            "1\n",
            "5\n",
            "0\n",
            "0\n"
          ]
        }
      ],
      "source": [
        "def count_vowels(s):\n",
        "    vowels = \"aeiou\"\n",
        "    return sum(1 for char in s.lower() if char in vowels)\n",
        "\n",
        "# Тесты\n",
        "print(count_vowels(\"hello\"))\n",
        "print(count_vowels(\"world\"))\n",
        "print(count_vowels(\"python\"))\n",
        "print(count_vowels(\"AEIOU\"))\n",
        "print(count_vowels(\"\"))\n",
        "print(count_vowels(\"xyz\"))"
      ]
    },
    {
      "cell_type": "markdown",
      "metadata": {
        "id": "t2ClV_Y0bbr6"
      },
      "source": [
        "# Задача 2\n",
        "Написать функцию на вход, которой подается строка. Функция должна вернуть true, если\n",
        "каждый символ в строке встречается только 1 раз, иначе должна вернуть false. Написать тесты для кода"
      ]
    },
    {
      "cell_type": "code",
      "execution_count": 3,
      "metadata": {
        "id": "FppbECao6VIz"
      },
      "outputs": [
        {
          "name": "stdout",
          "output_type": "stream",
          "text": [
            "True\n",
            "False\n",
            "True\n",
            "True\n",
            "False\n"
          ]
        }
      ],
      "source": [
        "def has_unique_characters(s):\n",
        "    return len(s) == len(set(s))\n",
        "\n",
        "# Тесты\n",
        "print(has_unique_characters(\"abcde\"))\n",
        "print( has_unique_characters(\"hello\"))\n",
        "print( has_unique_characters(\"\"))\n",
        "print( has_unique_characters(\"123456\"))\n",
        "print( has_unique_characters(\"112233\"))"
      ]
    },
    {
      "cell_type": "markdown",
      "metadata": {
        "id": "udRiIK1cdt6E"
      },
      "source": [
        "# Задача 3\n",
        "Написать функцию, которая принимает положительное число и возвращает количество\n",
        "бит равных 1 в этом числе. Написать тесты для кода"
      ]
    },
    {
      "cell_type": "code",
      "execution_count": 4,
      "metadata": {
        "id": "6tkfDJRz6dp_"
      },
      "outputs": [
        {
          "name": "stdout",
          "output_type": "stream",
          "text": [
            "2\n",
            "1\n",
            "8\n",
            "0\n"
          ]
        }
      ],
      "source": [
        "def count_bits(n):\n",
        "    return bin(n).count('1')\n",
        "\n",
        "# Тесты\n",
        "print(count_bits(5))   # 5 в двоичной форме 101\n",
        "print(count_bits(8))   # 8 в двоичной форме 1000\n",
        "print(count_bits(255))  # 255 в двоичной форме 11111111\n",
        "print(count_bits(0))     # 0 имеет 0 единичных бит"
      ]
    },
    {
      "cell_type": "markdown",
      "metadata": {
        "id": "26dDUz-Ae17N"
      },
      "source": [
        "# Задача 4\n",
        "Написать функцию, которая принимает положительное число. Функция должна вернуть то,\n",
        "сколько раз необходимо перемножать цифры числа или результат перемножения, чтобы\n",
        "получилось число состоящее из одной цифры.\n",
        "Например, для входного числа:\n",
        "· 39 функция должна вернуть 3, так как 3*9=27 => 2*7=14 => 1*4=4\n",
        "· 4 функция должна вернуть 0, так как число уже состоит из одной цифры\n",
        "· 999 функция должна вернуть 4, так как 9*9*9=729 => 7*2*9=126 => 1*2*6=12 =>\n",
        "1*2=2. Написать тесты для кода"
      ]
    },
    {
      "cell_type": "code",
      "execution_count": 5,
      "metadata": {
        "id": "BH1A_Mgi6i4G"
      },
      "outputs": [
        {
          "name": "stdout",
          "output_type": "stream",
          "text": [
            "3\n",
            "0\n",
            "4\n",
            "2\n"
          ]
        }
      ],
      "source": [
        "def magic(n):\n",
        "    count = 0\n",
        "    while n >= 10:\n",
        "        product = 1\n",
        "        while n > 0:\n",
        "            product *= n % 10\n",
        "            n //= 10\n",
        "        n = product\n",
        "        count += 1\n",
        "    return count\n",
        "\n",
        "# Тесты\n",
        "print(magic(39))  # 39 -> 27 -> 14 -> 4\n",
        "print(magic(4))    # 4 уже одноцифровое\n",
        "print(magic(999))   # 999 -> 729 -> 126 -> 12 -> 2\n",
        "print(magic(25))     # 25 -> 10 -> 0"
      ]
    },
    {
      "cell_type": "markdown",
      "metadata": {
        "id": "0nS-kIa8g8vd"
      },
      "source": [
        "# Задача 5\n",
        "Написать функцию, которая принимает два целочисленных вектора одинаковой длины и\n",
        "возвращает среднеквадратическое отклонение двух векторов. Написать тесты для кода"
      ]
    },
    {
      "cell_type": "code",
      "execution_count": 20,
      "metadata": {
        "id": "8iphx4LM6xbx"
      },
      "outputs": [
        {
          "name": "stdout",
          "output_type": "stream",
          "text": [
            "0.0\n",
            "3.0\n",
            "1.0\n"
          ]
        }
      ],
      "source": [
        "import math\n",
        "\n",
        "def mse(pred, true):\n",
        "    if len(pred) != len(true):\n",
        "        raise ValueError(\"Vectors must be of the same length.\")\n",
        "    mse = sum((p - t) ** 2 for p, t in zip(pred, true)) / len(pred)\n",
        "    return math.sqrt(mse)\n",
        "\n",
        "# Тесты\n",
        "print(mse([1, 2, 3], [1, 2, 3])) # 0\n",
        "print(mse([1, 2, 3], [4, 5, 6])) # 3\n",
        "print(mse([0, 0, 0], [1, 1, 1])) # 1"
      ]
    },
    {
      "cell_type": "markdown",
      "metadata": {
        "id": "vpIPKL439zkw"
      },
      "source": [
        "# Задача 6\n",
        "Написать функцию, принимающая целое положительное число. Функция должна вернуть\n",
        "строку вида “(n1**p1)(n2**p2)…(nk**pk)” представляющая разложение числа на простые\n",
        "множители (если pi == 1, то выводить только ni).\n",
        "Например, для числа 86240 функция должна вернуть “(2**5)(5)(7**2)(11)”. Написать тесты для кода"
      ]
    },
    {
      "cell_type": "code",
      "execution_count": null,
      "metadata": {
        "id": "pFebmcZk94Jw"
      },
      "outputs": [
        {
          "name": "stdout",
          "output_type": "stream",
          "text": [
            "(2**5)(5)(7**2)(11)\n",
            "(13)\n",
            "(2**2)(3)(5)\n"
          ]
        }
      ],
      "source": [
        "def prime_factors(n: int) -> str:\n",
        "    if n < 1:\n",
        "        raise ValueError(\"Number must be a positive integer.\")\n",
        "    \n",
        "    result = []\n",
        "    factor = 2\n",
        "\n",
        "    while factor * factor <= n:\n",
        "        count = 0\n",
        "        while n % factor == 0:\n",
        "            n //= factor\n",
        "            count += 1\n",
        "        if count > 0:\n",
        "            if count == 1:\n",
        "                result.append(f\"({factor})\")\n",
        "            else:\n",
        "                result.append(f\"({factor}**{count})\")\n",
        "        factor += 1\n",
        "\n",
        "    if n > 1:\n",
        "        result.append(f\"({n})\")\n",
        "\n",
        "    return \"\".join(result)\n",
        "\n",
        "print(prime_factors(86240))  # (2**5)(5)(7**2)(11)\n",
        "print(prime_factors(13))     # (13)\n",
        "print(prime_factors(60))     # (2**2)(3)(5)"
      ]
    },
    {
      "cell_type": "markdown",
      "metadata": {
        "id": "ps2s0BudX7A2"
      },
      "source": [
        "# Задача 7\n",
        "Написать функцию, принимающая целое число n, задающее количество кубиков. Функция\n",
        "должна определить, можно ли из данного кол-ва кубиков построить пирамиду, то есть\n",
        "можно ли представить число n как 1^2+2^2+3^2+…+k^2. Если можно, то функция должна\n",
        "вернуть k, иначе строку “It is impossible”. Написать тесты для кода"
      ]
    },
    {
      "cell_type": "code",
      "execution_count": null,
      "metadata": {
        "id": "3YPjEXxhX_YT"
      },
      "outputs": [
        {
          "name": "stdout",
          "output_type": "stream",
          "text": [
            "pyramid(1) = 1\n",
            "pyramid(5) = 2\n",
            "pyramid(14) = 3\n",
            "pyramid(30) = 4\n",
            "pyramid(55) = 5\n",
            "pyramid(0) = It is impossible\n",
            "pyramid(-10) = It is impossible\n"
          ]
        }
      ],
      "source": [
        "def pyramid(number):\n",
        "    if number <= 0:\n",
        "        return \"It is impossible\"\n",
        "\n",
        "    total = 0\n",
        "    k = 0\n",
        "    while total < number:\n",
        "        k += 1\n",
        "        total += k * k\n",
        "\n",
        "    return k if total == number else \"It is impossible\"\n",
        "\n",
        "\n",
        "# Проверка с выводом\n",
        "inputs = [1, 5, 14, 30, 55, 0, -10]\n",
        "\n",
        "for n in inputs:\n",
        "    print(f\"pyramid({n}) = {pyramid(n)}\") "
      ]
    },
    {
      "cell_type": "markdown",
      "metadata": {
        "id": "KeKgmIdAQMEJ"
      },
      "source": [
        "# Задача 8\n",
        "Функция принимает на вход положительное число и определяет является ли оно сбалансированным, т.е. сумма цифр до средних равна сумме цифр после. Средними в случае нечетного числа цифр считать одну цифру, в случае четного - две средних. Написать тесты для кода"
      ]
    },
    {
      "cell_type": "code",
      "execution_count": 19,
      "metadata": {
        "id": "gMAAqtqlQrZt"
      },
      "outputs": [
        {
          "name": "stdout",
          "output_type": "stream",
          "text": [
            "True\n",
            "True\n",
            "False\n"
          ]
        }
      ],
      "source": [
        "def is_balanced(num: int) -> bool:\n",
        "    digits = list(map(int, str(num)))\n",
        "    length = len(digits)\n",
        "\n",
        "    if length <= 2:\n",
        "        return True  # Для 1-2 цифр считаем, что число сбалансировано\n",
        "\n",
        "    if length % 2 == 0:\n",
        "        mid_left = length // 2 - 1\n",
        "        mid_right = length // 2 + 1\n",
        "    else:\n",
        "        mid_left = length // 2\n",
        "        mid_right = mid_left + 1\n",
        "\n",
        "    left_sum = sum(digits[:mid_left])\n",
        "    right_sum = sum(digits[mid_right:])\n",
        "\n",
        "    return left_sum == right_sum\n",
        "\n",
        "print(is_balanced(1234006))  # True: 1+2+3 = 0+0+6\n",
        "print(is_balanced(12321))    # True: 1+2 == 2+1\n",
        "print(is_balanced(123456))   # False"
      ]
    }
  ],
  "metadata": {
    "colab": {
      "provenance": []
    },
    "kernelspec": {
      "display_name": "Python 3",
      "name": "python3"
    },
    "language_info": {
      "codemirror_mode": {
        "name": "ipython",
        "version": 3
      },
      "file_extension": ".py",
      "mimetype": "text/x-python",
      "name": "python",
      "nbconvert_exporter": "python",
      "pygments_lexer": "ipython3",
      "version": "3.12.1"
    }
  },
  "nbformat": 4,
  "nbformat_minor": 0
}
