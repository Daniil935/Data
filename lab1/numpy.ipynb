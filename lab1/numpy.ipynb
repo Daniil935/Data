{
  "cells": [
    {
      "cell_type": "markdown",
      "metadata": {
        "id": "vC84e9kzyxPy"
      },
      "source": [
        "<h1>Импорт библиотек"
      ]
    },
    {
      "cell_type": "code",
      "execution_count": 5,
      "metadata": {
        "id": "cgKeNegmQG5S"
      },
      "outputs": [],
      "source": [
        "import numpy as np\n",
        "import matplotlib.pyplot as plt"
      ]
    },
    {
      "cell_type": "markdown",
      "metadata": {
        "id": "qFM9uVU2x4Ls"
      },
      "source": [
        "<h1>Задача 1. Дан набор из $p$ матриц размерностью $(n, n)$ и $p$ векторов размерностью $(n, 1)$, найти сумму произведений матриц на векторы. Написать тесты для кода"
      ]
    },
    {
      "cell_type": "code",
      "execution_count": 12,
      "metadata": {
        "id": "IAbUvEiYyWFF"
      },
      "outputs": [
        {
          "name": "stdout",
          "output_type": "stream",
          "text": [
            "Тест 1:\n",
            "[[3]\n",
            " [3]]\n",
            "Тест 2:\n",
            "[[2]\n",
            " [3]]\n",
            "Тест 3:\n",
            "[[-1]\n",
            " [ 4]]\n"
          ]
        }
      ],
      "source": [
        "import numpy as np\n",
        "\n",
        "def sum_prod(X, V):\n",
        "    '''\n",
        "    X - список матриц (n, n)\n",
        "    V - список векторов (n, 1)\n",
        "    Возвращает сумму произведений матриц на векторы: X[0] @ V[0] + X[1] @ V[1] + ...\n",
        "    '''\n",
        "    if len(X) != len(V):\n",
        "        raise ValueError(\"Lengths of X and V must be equal\")\n",
        "\n",
        "    result = np.zeros_like(V[0])\n",
        "    for A, b in zip(X, V):\n",
        "        result += A @ b\n",
        "    return result\n",
        "\n",
        "\n",
        "# Тест 1\n",
        "X1 = [\n",
        "    np.array([[1, 0], [0, 1]]),\n",
        "    np.array([[2, 0], [0, 2]])\n",
        "]\n",
        "V1 = [\n",
        "    np.array([[1], [1]]),\n",
        "    np.array([[1], [1]])\n",
        "]\n",
        "print(\"Тест 1:\")\n",
        "print(sum_prod(X1, V1))  # Ожидается [[3], [3]]\n",
        "\n",
        "# Тест 2\n",
        "X2 = [\n",
        "    np.array([[1, 2], [3, 4]]),\n",
        "    np.array([[0, 1], [1, 0]])\n",
        "]\n",
        "V2 = [\n",
        "    np.array([[1], [0]]),\n",
        "    np.array([[0], [1]])\n",
        "]\n",
        "print(\"Тест 2:\")\n",
        "print(sum_prod(X2, V2))  # Ожидается [[2], [3]]\n",
        "\n",
        "# Тест 3\n",
        "X3 = [\n",
        "    np.array([[1, -1], [2, 0]]),\n",
        "    np.array([[0, 0], [0, 0]])\n",
        "]\n",
        "V3 = [\n",
        "    np.array([[2], [3]]),\n",
        "    np.array([[100], [200]])\n",
        "]\n",
        "print(\"Тест 3:\")\n",
        "print(sum_prod(X3, V3))  # Ожидается [[-1], [4]]"
      ]
    },
    {
      "cell_type": "markdown",
      "metadata": {
        "id": "TKwPG4fIy2w4"
      },
      "source": [
        "<h1>Задача 2. Дана матрица M, напишите функцию, которая бинаризует матрицу по некоторому threshold (то есть, все значения большие threshold становятся равными 1, иначе 0). Напишите тесты для кода"
      ]
    },
    {
      "cell_type": "code",
      "execution_count": 1,
      "metadata": {
        "id": "KQDNMgsjRNH7"
      },
      "outputs": [
        {
          "name": "stdout",
          "output_type": "stream",
          "text": [
            "Тест 1:\n",
            "[[0 1]\n",
            " [1 0]]\n",
            "Тест 2:\n",
            "[[0 1]\n",
            " [0 0]]\n",
            "Тест 3:\n",
            "[[0 0]\n",
            " [1 1]]\n",
            "Тест 4:\n",
            "[[0 0]\n",
            " [0 0]]\n"
          ]
        }
      ],
      "source": [
        "import numpy as np\n",
        "\n",
        "def binarize(M, threshold=0.5):\n",
        "    '''\n",
        "    Возвращает бинаризованную матрицу: элементы > threshold становятся 1, иначе 0\n",
        "    '''\n",
        "    return (M > threshold).astype(int)\n",
        "\n",
        "\n",
        "# Тест 1\n",
        "M1 = np.array([\n",
        "    [0.2, 0.6],\n",
        "    [0.8, 0.1]\n",
        "])\n",
        "print(\"Тест 1:\")\n",
        "print(binarize(M1))  # threshold = 0.5, ожидается [[0 1], [1 0]]\n",
        "\n",
        "# Тест 2\n",
        "M2 = np.array([\n",
        "    [0.5, 0.9],\n",
        "    [0.3, 0.5]\n",
        "])\n",
        "print(\"Тест 2:\")\n",
        "print(binarize(M2, threshold=0.5))  # == threshold не считается >, ожидается [[0 1], [0 0]]\n",
        "\n",
        "# Тест 3\n",
        "M3 = np.array([\n",
        "    [1.0, 2.0],\n",
        "    [3.0, 4.0]\n",
        "])\n",
        "print(\"Тест 3:\")\n",
        "print(binarize(M3, threshold=2.5))  # threshold = 2.5, ожидается [[0 0], [1 1]]\n",
        "\n",
        "# Тест 4 — все нули\n",
        "M4 = np.array([\n",
        "    [0, 0],\n",
        "    [0, 0]\n",
        "])\n",
        "print(\"Тест 4:\")\n",
        "print(binarize(M4, threshold=0))  # 0 > 0 — False, ожидается [[0 0], [0 0]]"
      ]
    },
    {
      "cell_type": "markdown",
      "metadata": {
        "id": "IY5L-h-7zWhN"
      },
      "source": [
        "<h1>Задача 3. Напишите функцию, которая возвращает уникальные элементы из каждой строки матрицы. Напишите такую же функцию, но для столбцов. Напишите тесты для кода"
      ]
    },
    {
      "cell_type": "code",
      "execution_count": null,
      "metadata": {
        "id": "-8dEZhR0SBC-"
      },
      "outputs": [
        {
          "name": "stdout",
          "output_type": "stream",
          "text": [
            "Уникальные элементы по строкам:\n",
            "Строка 0: [1]\n",
            "Строка 1: []\n",
            "Строка 2: [5]\n",
            "Уникальные элементы по столбцам:\n",
            "Столбец 0: [1 3 4]\n",
            "Столбец 1: [2 3 5]\n",
            "Столбец 2: [2 3 4]\n"
          ]
        }
      ],
      "source": [
        "import numpy as np\n",
        "\n",
        "def unique_rows(mat):\n",
        "    '''\n",
        "    Возвращает список массивов уникальных элементов для каждой строки\n",
        "    '''\n",
        "    result = []\n",
        "    for row in mat:\n",
        "        vals, counts = np.unique(row, return_counts=True)\n",
        "        uniques = vals[counts == 1]\n",
        "        result.append(uniques)\n",
        "    return result\n",
        "\n",
        "def unique_columns(mat):\n",
        "    '''\n",
        "    Возвращает список массивов уникальных элементов для каждого столбца\n",
        "    '''\n",
        "    result = []\n",
        "    for col in mat.T:\n",
        "        vals, counts = np.unique(col, return_counts=True)\n",
        "        uniques = vals[counts == 1]\n",
        "        result.append(uniques)\n",
        "    return result\n",
        "\n",
        "mat = np.array([\n",
        "    [1, 2, 2],\n",
        "    [3, 3, 3],\n",
        "    [4, 5, 4]\n",
        "])\n",
        "\n",
        "print(\"Уникальные элементы по строкам:\")\n",
        "rows = unique_rows(mat)\n",
        "for i, r in enumerate(rows):\n",
        "    print(f\"Строка {i}: {r}\")\n",
        "\n",
        "print(\"Уникальные элементы по столбцам:\")\n",
        "cols = unique_columns(mat)\n",
        "for i, c in enumerate(cols):\n",
        "    print(f\"Столбец {i}: {c}\")"
      ]
    },
    {
      "cell_type": "markdown",
      "metadata": {
        "id": "roYAlo4Jz-lH"
      },
      "source": [
        "<h1>Задача 4. Напишите функцию, которая заполняет матрицу с размерами $(m, n)$ случайными числами, распределенными по нормальному закону. Затем считает мат. ожидание и дисперсию для каждого из столбцов и строк, а также строит для каждой строки и столбца гистограмму значений (использовать функцию hist из модуля matplotlib.plot)"
      ]
    },
    {
      "cell_type": "code",
      "execution_count": 6,
      "metadata": {
        "id": "nZK_71hMSQzv"
      },
      "outputs": [
        {
          "name": "stdout",
          "output_type": "stream",
          "text": [
            "Row means: [-0.17986506  0.41848134 -0.263659  ]\n",
            "Row variances: [0.93356611 0.06561695 0.24184624]\n",
            "Column means: [-0.44908471 -0.2783744   0.70241639]\n",
            "Column variances: [0.24229436 0.39194749 0.11122342]\n"
          ]
        },
        {
          "data": {
            "image/png": "[encoded data removed]",
            "text/plain": [
              "<Figure size 800x400 with 1 Axes>"
            ]
          },
          "metadata": {},
          "output_type": "display_data"
        },
        {
          "data": {
            "image/png": "[encoded data removed]",
            "text/plain": [
              "<Figure size 800x400 with 1 Axes>"
            ]
          },
          "metadata": {},
          "output_type": "display_data"
        },
        {
          "data": {
            "image/png": "[encoded data removed]",
            "text/plain": [
              "<Figure size 800x400 with 1 Axes>"
            ]
          },
          "metadata": {},
          "output_type": "display_data"
        },
        {
          "data": {
            "image/png": "[encoded data removed]",
            "text/plain": [
              "<Figure size 800x400 with 1 Axes>"
            ]
          },
          "metadata": {},
          "output_type": "display_data"
        },
        {
          "data": {
            "image/png": "[encoded data removed]",
            "text/plain": [
              "<Figure size 800x400 with 1 Axes>"
            ]
          },
          "metadata": {},
          "output_type": "display_data"
        },
        {
          "data": {
            "image/png": "[encoded data removed]",
            "text/plain": [
              "<Figure size 800x400 with 1 Axes>"
            ]
          },
          "metadata": {},
          "output_type": "display_data"
        }
      ],
      "source": [
        "def generate_matrix_and_analyze(m, n, mean=0, std=1):\n",
        "    matrix = np.random.normal(loc=mean, scale=std, size=(m, n))\n",
        "    \n",
        "    row_means = np.mean(matrix, axis=1)\n",
        "    row_vars = np.var(matrix, axis=1)\n",
        "    col_means = np.mean(matrix, axis=0)\n",
        "    col_vars = np.var(matrix, axis=0)\n",
        "    \n",
        "    print(\"Row means:\", row_means)\n",
        "    print(\"Row variances:\", row_vars)\n",
        "    print(\"Column means:\", col_means)\n",
        "    print(\"Column variances:\", col_vars)\n",
        "    \n",
        "    for i in range(m):\n",
        "        plt.figure(figsize=(8, 4))\n",
        "        plt.hist(matrix[i, :], bins=10, color='blue', alpha=0.7)\n",
        "        plt.title(f\"Histogram of row {i+1}\")\n",
        "        plt.xlabel(\"Value\")\n",
        "        plt.ylabel(\"Freq\")\n",
        "        plt.show()\n",
        "    \n",
        "    for j in range(n):\n",
        "        plt.figure(figsize=(8, 4))\n",
        "        plt.hist(matrix[:, j], bins=10, color='green', alpha=0.7)\n",
        "        plt.title(f\"Histogram of column {j+1}\")\n",
        "        plt.xlabel(\"Value\")\n",
        "        plt.ylabel(\"Freq\")\n",
        "        plt.show()\n",
        "\n",
        "generate_matrix_and_analyze(3, 3)"
      ]
    },
    {
      "cell_type": "markdown",
      "metadata": {
        "id": "BDyATNdM0dJ2"
      },
      "source": [
        "<h1>Задача 5. Напишите функцию, которая заполняет матрицу $(m, n)$ в шахматном порядке заданными числами $a$ и $b$. Напишите тесты для кода"
      ]
    },
    {
      "cell_type": "code",
      "execution_count": 7,
      "metadata": {
        "id": "RWNJYWQGecS6"
      },
      "outputs": [
        {
          "name": "stdout",
          "output_type": "stream",
          "text": [
            "[[1. 0. 1. 0. 1. 0. 1. 0.]\n",
            " [0. 1. 0. 1. 0. 1. 0. 1.]\n",
            " [1. 0. 1. 0. 1. 0. 1. 0.]\n",
            " [0. 1. 0. 1. 0. 1. 0. 1.]\n",
            " [1. 0. 1. 0. 1. 0. 1. 0.]\n",
            " [0. 1. 0. 1. 0. 1. 0. 1.]\n",
            " [1. 0. 1. 0. 1. 0. 1. 0.]\n",
            " [0. 1. 0. 1. 0. 1. 0. 1.]]\n"
          ]
        }
      ],
      "source": [
        "def chess(m, n, a, b):\n",
        "    matrix = np.zeros((m, n))\n",
        "    for i in range(m):\n",
        "        for j in range(n):\n",
        "            if (i + j) % 2 == 0:\n",
        "                matrix[i, j] = a\n",
        "            else:\n",
        "                matrix[i, j] = b\n",
        "    return matrix\n",
        "\n",
        "print(chess(8, 8, 1, 0))"
      ]
    },
    {
      "cell_type": "markdown",
      "metadata": {
        "id": "-ymXLtTN0vB6"
      },
      "source": [
        "<h1>Задача 6. Напишите функцию, которая отрисовывает прямоугольник с заданными размерами (a, b) на изображении размера (m, n), цвет фона задайте в схеме RGB, как и цвет прямоугольника. Цвета также должны быть параметрами функции. Напишите аналогичную функцию но для овала с полуосями a и b. Напишите тесты для кода.\n",
        "Примечание: уравнение эллипса (границы овала) можно записать как:\n",
        "<h1>$\\frac{(x-x_0)^2}{a^2}+\\frac{(y-y_0)^2}{b^2}=1$"
      ]
    },
    {
      "cell_type": "code",
      "execution_count": 8,
      "metadata": {
        "id": "sNfl1t_kfOF4"
      },
      "outputs": [
        {
          "data": {
            "image/png": "[encoded data removed]",
            "text/plain": [
              "<Figure size 640x480 with 1 Axes>"
            ]
          },
          "metadata": {},
          "output_type": "display_data"
        },
        {
          "data": {
            "image/png": "[encoded data removed]",
            "text/plain": [
              "<Figure size 640x480 with 1 Axes>"
            ]
          },
          "metadata": {},
          "output_type": "display_data"
        }
      ],
      "source": [
        "def draw_rectangle(a, b, m, n, rect_color, bg_color):\n",
        "    image = np.ones((m, n, 3), dtype=np.uint8)\n",
        "    image[:, :] = bg_color\n",
        "    x0 = (n - a) // 2\n",
        "    y0 = (m - b) // 2\n",
        "    image[y0:y0 + b, x0:x0 + a] = rect_color\n",
        "    plt.imshow(image)\n",
        "    plt.axis('off')\n",
        "    plt.show()\n",
        "\n",
        "\n",
        "def draw_ellipse(a, b, m, n, el_color, bg_color):\n",
        "    image = np.ones((m, n, 3), dtype=np.uint8)\n",
        "    image[:, :] = bg_color\n",
        "    x0 = n // 2\n",
        "    y0 = m // 2\n",
        "    for y in range(m):\n",
        "        for x in range(n):\n",
        "            if ((x - x0) ** 2) / (a ** 2) + ((y - y0) ** 2) / (b ** 2) <= 1:\n",
        "                image[y, x] = el_color\n",
        "    plt.imshow(image)\n",
        "    plt.axis('off')\n",
        "    plt.show()\n",
        "\n",
        "draw_rectangle(5, 7, 10, 10, (255, 0, 255), (255, 255, 255))\n",
        "draw_ellipse(300, 400, 1500, 1000, (255, 255, 0), (255, 255, 255))"
      ]
    },
    {
      "cell_type": "markdown",
      "metadata": {
        "id": "S82c38oz244H"
      },
      "source": [
        "<h1>Задача 7. Дан некий временной ряд. Для данного ряда нужно найти его: математическое ожидание, дисперсию, СКО, найти все локальные максимумы и минимумы (локальный максимум - это точка, которая больше своих соседних точек, а локальный минимум - это точка, которая меньше своих соседей), а также вычислить для данного ряда другой ряд, получаемый методом скользящего среднего с размером окна $p$.\n",
        "<h1>Примечание: метод скользящего среднего подразумевает нахождение среднего из подмножетсва ряда размером $p$"
      ]
    },
    {
      "cell_type": "code",
      "execution_count": 9,
      "metadata": {
        "id": "Zb9mIVge5MMt"
      },
      "outputs": [
        {
          "name": "stdout",
          "output_type": "stream",
          "text": [
            "Математическое ожидание: 3.5833333333333335\n",
            "Дисперсия: 4.409722222222222\n",
            "Стандартное отклонение: 2.099933861392359\n",
            "Индексы локальных максимумов: [7 6]\n",
            "Индексы локальных минимумов: [1]\n",
            "Скользящее среднее: [1.2 2.  3.  4.  5.  4.8 4.2 4.2 4.2 3.  2.6 2.4]\n"
          ]
        }
      ],
      "source": [
        "def analyze_time_series(series, window_size):\n",
        "    series = np.array(series)\n",
        "    mean = np.mean(series)\n",
        "    variance = np.var(series)\n",
        "    std_dev = np.std(series)\n",
        "    local_maxima_i = np.where((series[1:-1] > series[:-2]) & (series[1:-1] > series[2:]))[0] + 1\n",
        "    local_minima_i = np.where((series[1:-1] < series[:-2]) & (series[1:-1] < series[2:]))[0] + 1 \n",
        "    local_maxima = series[local_maxima_i]\n",
        "    local_minima = series[local_minima_i]\n",
        "    moving_average = np.convolve(series, np.ones(window_size)/window_size, mode='same')\n",
        "    return mean, variance, std_dev, local_maxima, local_minima, moving_average\n",
        "time_series = [1, 2, 3, 4, 5, 6, 7, 2, 1, 5, 6, 1]\n",
        "mean, variance, std_dev, local_maxima, local_minima, moving_average = analyze_time_series(time_series, 5)\n",
        "\n",
        "print(\"Математическое ожидание:\", mean)\n",
        "print(\"Дисперсия:\", variance)\n",
        "print(\"Стандартное отклонение:\", std_dev)\n",
        "print(\"Индексы локальных максимумов:\", local_maxima)\n",
        "print(\"Индексы локальных минимумов:\", local_minima)\n",
        "print(\"Скользящее среднее:\", moving_average)"
      ]
    },
    {
      "cell_type": "markdown",
      "metadata": {
        "id": "jPkylmOX5O9n"
      },
      "source": [
        "<h1> Задача 8. Дан некоторый вектор с целочисленными метками классов, напишите функцию, которая выполняет one-hot-encoding для данного вектора\n",
        "<h1> One-hot-encoding - представление, в котором на месте метки некоторого класса стоит 1, в остальных позициях стоит 0. Например для вектора [0, 2, 3, 0] one-hot-encoding выглядит как: [[1, 0, 0, 0], [0, 0, 1, 0], [0, 0, 0, 1], [1, 0, 0, 0]]"
      ]
    },
    {
      "cell_type": "code",
      "execution_count": 11,
      "metadata": {
        "id": "Y-jlnZvw56lD"
      },
      "outputs": [
        {
          "name": "stdout",
          "output_type": "stream",
          "text": [
            "Начальный вектор: [0, 2, 3, 0]\n",
            "One-hot encoding:\n",
            " [[1. 0. 0.]\n",
            " [0. 1. 0.]\n",
            " [0. 0. 1.]\n",
            " [1. 0. 0.]]\n"
          ]
        }
      ],
      "source": [
        "def one_hot_encoding(vector):\n",
        "    vector = np.array(vector)\n",
        "    unique_values = np.unique(vector)\n",
        "    num_classes = len(unique_values)\n",
        "    one_hot_matrix = np.zeros((vector.size, num_classes))\n",
        "    for i, value in enumerate(vector):\n",
        "        index = np.where(unique_values == value)[0][0]\n",
        "        one_hot_matrix[i, index] = 1\n",
        "    return one_hot_matrix\n",
        "vector = [0, 2, 3, 0]\n",
        "one_hot_matrix = one_hot_encoding(vector)\n",
        "\n",
        "print(\"Начальный вектор:\", vector)\n",
        "print(\"One-hot encoding:\\n\", one_hot_matrix)"
      ]
    }
  ],
  "metadata": {
    "colab": {
      "provenance": []
    },
    "kernelspec": {
      "display_name": "Python 3",
      "name": "python3"
    },
    "language_info": {
      "codemirror_mode": {
        "name": "ipython",
        "version": 3
      },
      "file_extension": ".py",
      "mimetype": "text/x-python",
      "name": "python",
      "nbconvert_exporter": "python",
      "pygments_lexer": "ipython3",
      "version": "3.12.1"
    }
  },
  "nbformat": 4,
  "nbformat_minor": 0
}
